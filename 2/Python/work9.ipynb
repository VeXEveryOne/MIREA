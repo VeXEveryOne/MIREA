{
 "cells": [
  {
   "cell_type": "markdown",
   "metadata": {},
   "source": [
    "Первый вариант решения:"
   ]
  },
  {
   "cell_type": "code",
   "execution_count": null,
   "metadata": {
    "vscode": {
     "languageId": "plaintext"
    }
   },
   "outputs": [],
   "source": [
    "import re\n",
    "\n",
    "\n",
    "def main(text):\n",
    "    result = {}\n",
    "    sections = re.findall(r'<section>(.*?)</section>', text, re.DOTALL)\n",
    "\n",
    "    for section in sections:\n",
    "        match = re.search(r'(\\w+)\\s*<\\|\\s*#(-?\\d+)', section)\n",
    "        if match:\n",
    "            key = match.group(1)\n",
    "            value = int(match.group(2))\n",
    "            result[key] = value\n",
    "\n",
    "    return result\n"
   ]
  }
 ],
 "metadata": {
  "language_info": {
   "name": "python"
  }
 },
 "nbformat": 4,
 "nbformat_minor": 2
}
