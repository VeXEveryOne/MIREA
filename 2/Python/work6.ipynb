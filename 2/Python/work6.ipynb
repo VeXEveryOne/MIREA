{
 "cells": [
  {
   "cell_type": "markdown",
   "metadata": {},
   "source": [
    "Первый вариант решения"
   ]
  },
  {
   "cell_type": "code",
   "execution_count": null,
   "metadata": {},
   "outputs": [],
   "source": [
    "from math import floor\n",
    "\n",
    "\n",
    "def main(Ay):\n",
    "    E = {floor(i / 3) + i for i in Ay if i not in range(0, 59)}\n",
    "    Phi = {i for i in Ay if 37 < i < 83}\n",
    "    Ot = {phi % 2 - abs(phi) for phi in Phi if phi >= -62}\n",
    "    summation = sum(e * o for e in E for o in Ot)\n",
    "    nu = len(E) + summation\n",
    "    return nu\n"
   ]
  },
  {
   "cell_type": "markdown",
   "metadata": {},
   "source": [
    "Второй вариант решения"
   ]
  },
  {
   "cell_type": "code",
   "execution_count": null,
   "metadata": {},
   "outputs": [
    {
     "name": "stdout",
     "output_type": "stream",
     "text": [
      "43701\n",
      "7986\n"
     ]
    }
   ],
   "source": [
    "from math import floor\n",
    "\n",
    "\n",
    "def main(input_set):\n",
    "    e_set = set()\n",
    "    for num in input_set:\n",
    "        if num < 0 or num >= 59:\n",
    "            e_set.add(floor(num / 3) + num)\n",
    "    phi_set = {num for num in input_set if 37 < num < 83}\n",
    "    o_set = set()\n",
    "    for phi in phi_set:\n",
    "        if phi >= -62:\n",
    "            o_set.add(phi % 2 - abs(phi))\n",
    "    summation = sum(e * o for e in e_set for o in o_set)\n",
    "    return len(e_set) + summation\n"
   ]
  }
 ],
 "metadata": {
  "kernelspec": {
   "display_name": "Python 3",
   "language": "python",
   "name": "python3"
  },
  "language_info": {
   "codemirror_mode": {
    "name": "ipython",
    "version": 3
   },
   "file_extension": ".py",
   "mimetype": "text/x-python",
   "name": "python",
   "nbconvert_exporter": "python",
   "pygments_lexer": "ipython3",
   "version": "3.13.2"
  }
 },
 "nbformat": 4,
 "nbformat_minor": 2
}
