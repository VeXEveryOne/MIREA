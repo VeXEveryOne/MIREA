{
 "cells": [
  {
   "cell_type": "markdown",
   "metadata": {},
   "source": [
    "Первый вариант решения"
   ]
  },
  {
   "cell_type": "code",
   "execution_count": null,
   "metadata": {},
   "outputs": [],
   "source": [
    "from math import floor\n",
    "\n",
    "\n",
    "def main(n):\n",
    "    if n == 0:\n",
    "        return 0.62\n",
    "    elif n >= 1:\n",
    "        f_prev = main(n - 1)\n",
    "        return (\n",
    "            (f_prev - 13 * (f_prev ** 3)) / 29\n",
    "            - 1\n",
    "            - (floor(f_prev) ** 3 / 27)\n",
    "        )\n"
   ]
  },
  {
   "cell_type": "markdown",
   "metadata": {},
   "source": [
    "Второй вариант решения"
   ]
  },
  {
   "cell_type": "code",
   "execution_count": null,
   "metadata": {},
   "outputs": [],
   "source": [
    "from math import floor\n",
    "\n",
    "\n",
    "def recurrence_gen():\n",
    "    f = 0.62\n",
    "    yield f\n",
    "    while True:\n",
    "        f = (f - 13*f**3)/29 - 1 - floor(f)**3/27\n",
    "        yield f\n",
    "\n",
    "\n",
    "def main(n):\n",
    "    g = recurrence_gen()\n",
    "    for _ in range(n+1):\n",
    "        res = next(g)\n",
    "    return res\n"
   ]
  },
  {
   "cell_type": "markdown",
   "metadata": {},
   "source": [
    "Третий вариант решения"
   ]
  },
  {
   "cell_type": "code",
   "execution_count": null,
   "metadata": {},
   "outputs": [
    {
     "name": "stdout",
     "output_type": "stream",
     "text": [
      "-0.5914138524864525\n",
      "-1.0854573793103448\n",
      "-0.8472211887734884\n"
     ]
    }
   ],
   "source": []
  },
  {
   "cell_type": "markdown",
   "metadata": {},
   "source": [
    "Четвертый вариант решения"
   ]
  },
  {
   "cell_type": "code",
   "execution_count": null,
   "metadata": {},
   "outputs": [],
   "source": []
  },
  {
   "cell_type": "markdown",
   "metadata": {},
   "source": [
    "Пятый вариант решения"
   ]
  },
  {
   "cell_type": "markdown",
   "metadata": {},
   "source": []
  },
  {
   "cell_type": "code",
   "execution_count": null,
   "metadata": {},
   "outputs": [],
   "source": [
    "from math import floor\n",
    "\n",
    "\n",
    "def main(n):\n",
    "    return 0.62 if n == 0 else (\n",
    "        (main(n-1) - 13*main(n-1)**3)/29 - 1 - floor(main(n-1))**3/27\n",
    "    )\n"
   ]
  }
 ],
 "metadata": {
  "kernelspec": {
   "display_name": "Python 3",
   "language": "python",
   "name": "python3"
  },
  "language_info": {
   "codemirror_mode": {
    "name": "ipython",
    "version": 3
   },
   "file_extension": ".py",
   "mimetype": "text/x-python",
   "name": "python",
   "nbconvert_exporter": "python",
   "pygments_lexer": "ipython3",
   "version": "3.13.2"
  }
 },
 "nbformat": 4,
 "nbformat_minor": 2
}
