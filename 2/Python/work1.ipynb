{
 "cells": [
  {
   "cell_type": "markdown",
   "metadata": {},
   "source": [
    "Первый вариант решения"
   ]
  },
  {
   "cell_type": "code",
   "execution_count": null,
   "metadata": {},
   "outputs": [
    {
     "name": "stdout",
     "output_type": "stream",
     "text": [
      "Hello\n"
     ]
    }
   ],
   "source": [
    "import math\n",
    "import cmath\n",
    "\n",
    "\n",
    "def main(x):\n",
    "    numerator = math.atan(x) ** 7 - 32 * ((32 * x ** 2) + 1 + 75 * x ** 3) ** 5\n",
    "    denominator = (5 * x ** 3 + 28) ** 2\n",
    "    if numerator / denominator >= 0:\n",
    "        sqrt1 = math.sqrt(numerator / denominator)\n",
    "    else:\n",
    "        sqrt1 = cmath.sqrt(numerator / denominator)\n",
    "\n",
    "    abs_value = abs(2 + 60 * x + 87 * x ** 3)\n",
    "    sqrt2 = math.sqrt(3 * (abs_value ** 5))\n",
    "\n",
    "    return sqrt1 + sqrt2\n"
   ]
  },
  {
   "cell_type": "markdown",
   "metadata": {},
   "source": [
    "Второй вариант решения"
   ]
  },
  {
   "cell_type": "code",
   "execution_count": null,
   "metadata": {},
   "outputs": [],
   "source": [
    "from math import sqrt, atan\n",
    "\n",
    "\n",
    "def main(x):\n",
    "    return sqrt(\n",
    "        (atan(x) ** 7 - 32 * ((32 * x ** 2) + 1 + 75 * x ** 3) ** 5) /\n",
    "        (5 * x ** 3 + 28) ** 2\n",
    "    ) + sqrt(\n",
    "        3 * abs(2 + 60 * x + 87 * x ** 3) ** 5\n",
    "    )\n"
   ]
  },
  {
   "cell_type": "markdown",
   "metadata": {},
   "source": [
    "Третий вариант решения"
   ]
  },
  {
   "cell_type": "code",
   "execution_count": null,
   "metadata": {},
   "outputs": [],
   "source": []
  },
  {
   "cell_type": "markdown",
   "metadata": {},
   "source": [
    "Четвертый вариант решения"
   ]
  },
  {
   "cell_type": "code",
   "execution_count": null,
   "metadata": {},
   "outputs": [],
   "source": []
  }
 ],
 "metadata": {
  "kernelspec": {
   "display_name": "Python 3",
   "language": "python",
   "name": "python3"
  },
  "language_info": {
   "name": "python",
   "version": "3.13.2"
  }
 },
 "nbformat": 4,
 "nbformat_minor": 2
}
