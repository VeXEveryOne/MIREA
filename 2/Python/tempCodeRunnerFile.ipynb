def main(n):
    if (n == 0):
        return 0.62
    elif (n >= 1):
        f_prev = main(n - 1)
        return ((f_prev - 13*(f_prev**3))/29) - 1 - ((abs(f_prev))**3/27)