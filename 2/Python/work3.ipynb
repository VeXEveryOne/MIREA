{
 "cells": [
  {
   "cell_type": "markdown",
   "metadata": {},
   "source": [
    "Первый вариант решения"
   ]
  },
  {
   "cell_type": "code",
   "execution_count": null,
   "metadata": {},
   "outputs": [
    {
     "data": {
      "text/plain": [
       "-4.4454885923953823e+18"
      ]
     },
     "execution_count": 5,
     "metadata": {},
     "output_type": "execute_result"
    }
   ],
   "source": [
    "def main(n, b, m):\n",
    "    x, y = 0.0, 0.0\n",
    "    for j in range(1, n+1):\n",
    "        x += 88 + j**4 + 29*j**3\n",
    "    for j in range(1, m+1):\n",
    "        for c in range(1, n+1):\n",
    "            for k in range(1, b+1):\n",
    "                y += c**4 - (((47*k**3 + c + 64*k**2)**5)/88) - 36*j**7\n",
    "    return x + y\n"
   ]
  },
  {
   "cell_type": "markdown",
   "metadata": {},
   "source": [
    "Второй вариант решения"
   ]
  },
  {
   "cell_type": "code",
   "execution_count": 14,
   "metadata": {},
   "outputs": [
    {
     "name": "stdout",
     "output_type": "stream",
     "text": [
      "-5.4066512272651426e+20\n",
      "-4.445488592395383e+18\n",
      "-57960302637191.26\n",
      "-6.95332807870362e+18\n",
      "-28053139845168.0\n"
     ]
    }
   ],
   "source": [
    "def main(n, b, m):\n",
    "    x = sum(88 + j**4 + 29 * j**3 for j in range(1, n + 1))\n",
    "    y = sum(\n",
    "        c**4 - (((47 * k**3 + c + 64 * k**2) ** 5) / 88) - 36 * j**7\n",
    "        for j in range(1, m + 1)\n",
    "        for c in range(1, n + 1)\n",
    "        for k in range(1, b + 1)\n",
    "    )\n",
    "    return x + y\n",
    "# Примеры вычислений\n",
    "print(float(main(2, 7, 8)))  # Ожидается ~ -5.41e+20\n",
    "print(float(main(2, 5, 8)))  # Ожидается ~ -4.45e+18\n",
    "print(float(main(7, 2, 7)))  # Ожидается ~ -5.80e+13\n",
    "print(float(main(5, 5, 5)))  # Ожидается ~ -6.95e+18\n",
    "print(float(main(4, 2, 6)))  # Ожидается ~ -2.81e+13)"
   ]
  },
  {
   "cell_type": "markdown",
   "metadata": {},
   "source": [
    "Третий вариант решения"
   ]
  },
  {
   "cell_type": "code",
   "execution_count": null,
   "metadata": {},
   "outputs": [
    {
     "name": "stdout",
     "output_type": "stream",
     "text": [
      "-5.406651227265143e+20\n",
      "-4.445488592395383e+18\n",
      "-57960302637191.266\n",
      "-6.95332807870362e+18\n",
      "-28053139845168.0\n"
     ]
    }
   ],
   "source": [
    "from functools import reduce\n",
    "\n",
    "\n",
    "def f(n, b, m):\n",
    "    sum1 = reduce(\n",
    "        lambda acc, j: acc + (88 + j**4 + 29 * j**3),\n",
    "        range(1, n + 1),\n",
    "        0\n",
    "    )\n",
    "\n",
    "    def triple_sum(j):\n",
    "        return reduce(\n",
    "            lambda acc_c, c: acc_c + reduce(\n",
    "                lambda acc_k, k: acc_k + (\n",
    "                    c**4 - ((47 * k**3 + c + 64 * k**2)**5 / 88) - 36 * j**7\n",
    "                ),\n",
    "                range(1, b + 1),\n",
    "                0\n",
    "            ),\n",
    "            range(1, n + 1),\n",
    "            0\n",
    "        )\n",
    "\n",
    "    sum2 = reduce(\n",
    "        lambda acc_j, j: acc_j + triple_sum(j),\n",
    "        range(1, m + 1),\n",
    "        0\n",
    "    )\n",
    "\n",
    "    return sum1 + sum2\n"
   ]
  },
  {
   "cell_type": "markdown",
   "metadata": {},
   "source": [
    "Четвертый вариант решения"
   ]
  },
  {
   "cell_type": "code",
   "execution_count": null,
   "metadata": {},
   "outputs": [
    {
     "name": "stdout",
     "output_type": "stream",
     "text": [
      "-5.406651227265142e+20\n",
      "-4.4454885923953823e+18\n",
      "-57960302637191.28\n",
      "-6.953328078703618e+18\n",
      "-28053139845167.996\n"
     ]
    }
   ],
   "source": [
    "def main(n, b, m):\n",
    "    sum1 = 0\n",
    "    j = 1\n",
    "    while j <= n:\n",
    "        sum1 += 88 + j**4 + 29 * j**3\n",
    "        j += 1\n",
    "\n",
    "    sum2 = 0\n",
    "    j = 1\n",
    "    while j <= m:\n",
    "        c = 1\n",
    "        while c <= n:\n",
    "            k = 1\n",
    "            while k <= b:\n",
    "                term = c**4 - ((47 * k**3 + c + 64 * k**2)**5 / 88) - 36 * j**7\n",
    "                sum2 += term\n",
    "                k += 1\n",
    "            c += 1\n",
    "        j += 1\n",
    "\n",
    "    return sum1 + sum2\n"
   ]
  },
  {
   "cell_type": "markdown",
   "metadata": {},
   "source": [
    "Пятый вариант решения"
   ]
  },
  {
   "cell_type": "code",
   "execution_count": 4,
   "metadata": {},
   "outputs": [
    {
     "name": "stdout",
     "output_type": "stream",
     "text": [
      "-5.406651227265143e+20\n",
      "-4.445488592395383e+18\n",
      "-57960302637191.266\n",
      "-6.953328078703621e+18\n",
      "-28053139845168.0\n"
     ]
    }
   ],
   "source": [
    "def main(n, b, m, j1=1, j2=1, c=1, k=1):\n",
    "    if j1 > n:\n",
    "        return sum2(m, n, b)\n",
    "    return (88 + j1**4 + 29 * j1**3) + main(n, b, m, j1 + 1, j2, c, k)\n",
    "\n",
    "\n",
    "def sum2(j, n, b, c=1, k=1):\n",
    "    if j < 1:\n",
    "        return 0\n",
    "    return inner_sum(j, n, b) + sum2(j - 1, n, b)\n",
    "\n",
    "\n",
    "def inner_sum(j, n, b, c=1):\n",
    "    if c > n:\n",
    "        return 0\n",
    "    return inner_inner_sum(j, c, b) + inner_sum(j, n, b, c + 1)\n",
    "\n",
    "\n",
    "def inner_inner_sum(j, c, b, k=1):\n",
    "    if k > b:\n",
    "        return 0\n",
    "    term = c**4 - ((47 * k**3 + c + 64 * k**2)**5 / 88) - 36 * j**7\n",
    "    return term + inner_inner_sum(j, c, b, k + 1)\n",
    "\n",
    "print(main(2, 7, 8))  # ≈ -5.41e+20\n",
    "print(main(2, 5, 8))  # ≈ -4.45e+18\n",
    "print(main(7, 2, 7))  # ≈ -5.80e+13\n",
    "print(main(5, 5, 5))  # ≈ -6.95e+18\n",
    "print(main(4, 2, 6))  # ≈ -2.81e+13"
   ]
  }
 ],
 "metadata": {
  "kernelspec": {
   "display_name": "Python 3",
   "language": "python",
   "name": "python3"
  },
  "language_info": {
   "codemirror_mode": {
    "name": "ipython",
    "version": 3
   },
   "file_extension": ".py",
   "mimetype": "text/x-python",
   "name": "python",
   "nbconvert_exporter": "python",
   "pygments_lexer": "ipython3",
   "version": "3.13.2"
  }
 },
 "nbformat": 4,
 "nbformat_minor": 2
}
