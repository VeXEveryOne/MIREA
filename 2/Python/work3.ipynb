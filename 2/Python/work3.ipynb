{
 "cells": [
  {
   "cell_type": "markdown",
   "metadata": {},
   "source": [
    "Первый вариант решения"
   ]
  },
  {
   "cell_type": "code",
   "execution_count": null,
   "metadata": {},
   "outputs": [
    {
     "data": {
      "text/plain": [
       "-4.4454885923953823e+18"
      ]
     },
     "execution_count": 5,
     "metadata": {},
     "output_type": "execute_result"
    }
   ],
   "source": [
    "def main(n, b, m):\n",
    "    x, y = 0.0, 0.0\n",
    "    for j in range(1, n+1):\n",
    "        x += 88 + j**4 + 29*j**3\n",
    "    for j in range(1, m+1):\n",
    "        for c in range(1, n+1):\n",
    "            for k in range(1, b+1):\n",
    "                y += c**4 - (((47*k**3 + c + 64*k**2)**5)/88) - 36*j**7\n",
    "    return x + y\n"
   ]
  },
  {
   "cell_type": "markdown",
   "metadata": {},
   "source": [
    "Второй вариант решения"
   ]
  },
  {
   "cell_type": "code",
   "execution_count": 14,
   "metadata": {},
   "outputs": [
    {
     "name": "stdout",
     "output_type": "stream",
     "text": [
      "-5.4066512272651426e+20\n",
      "-4.445488592395383e+18\n",
      "-57960302637191.26\n",
      "-6.95332807870362e+18\n",
      "-28053139845168.0\n"
     ]
    }
   ],
   "source": [
    "def main(n, b, m):\n",
    "    x = sum(88 + j**4 + 29 * j**3 for j in range(1, n + 1))\n",
    "    y = sum(\n",
    "        c**4 - (((47 * k**3 + c + 64 * k**2) ** 5) / 88) - 36 * j**7\n",
    "        for j in range(1, m + 1)\n",
    "        for c in range(1, n + 1)\n",
    "        for k in range(1, b + 1)\n",
    "    )\n",
    "    return x + y\n",
    "# Примеры вычислений\n",
    "print(float(main(2, 7, 8)))  # Ожидается ~ -5.41e+20\n",
    "print(float(main(2, 5, 8)))  # Ожидается ~ -4.45e+18\n",
    "print(float(main(7, 2, 7)))  # Ожидается ~ -5.80e+13\n",
    "print(float(main(5, 5, 5)))  # Ожидается ~ -6.95e+18\n",
    "print(float(main(4, 2, 6)))  # Ожидается ~ -2.81e+13)"
   ]
  },
  {
   "cell_type": "markdown",
   "metadata": {},
   "source": [
    "Третий вариант решения"
   ]
  },
  {
   "cell_type": "code",
   "execution_count": null,
   "metadata": {},
   "outputs": [
    {
     "name": "stdout",
     "output_type": "stream",
     "text": [
      "-3.29097358004504e+21\n",
      "-2.3506954143174476e+21\n",
      "-4.734103472040435e+20\n",
      "-6.95332807870362e+18\n",
      "-2.951005600255676e+19\n"
     ]
    }
   ],
   "source": [
    "from functools import reduce\n",
    "from decimal import Decimal, getcontext\n",
    "\n",
    "\n",
    "# Устанавливаем высокую точность\n",
    "getcontext().prec = 50\n",
    "\n",
    "\n",
    "def compute_first_sum(acc, j):\n",
    "    j = Decimal(j)\n",
    "    return acc + (Decimal('88') + j**4 + Decimal('29') * j**3)\n",
    "\n",
    "\n",
    "def compute_j_sum(acc, j, n, b):\n",
    "    indices_c = range(1, n + 1)\n",
    "    return acc + reduce(\n",
    "        lambda acc, c: acc + compute_c_sum(c, j, b),\n",
    "        indices_c,\n",
    "        Decimal('0')\n",
    "    )\n",
    "\n",
    "\n",
    "def compute_c_sum(c, j, b):\n",
    "    indices_k = range(1, b + 1)\n",
    "    return reduce(\n",
    "        lambda acc, k: acc + compute_k_sum(k, c, j),\n",
    "        indices_k,\n",
    "        Decimal('0')\n",
    "    )\n",
    "\n",
    "\n",
    "def compute_k_sum(k, c, j):\n",
    "    j, c, k = Decimal(j), Decimal(c), Decimal(k)\n",
    "    term = (c**4 -\n",
    "            ((Decimal('47') * k**3 + c + Decimal('64') * k**2)**5 /\n",
    "             Decimal('880')) -\n",
    "            Decimal('36') * j**7)\n",
    "    return term\n",
    "\n",
    "\n",
    "def main(n, m, b):\n",
    "    # Первая сумма: ∑(j=1 to n) (88 + j^4 + 29j^3)\n",
    "    indices_j1 = range(1, n + 1)\n",
    "    first_sum = reduce(compute_first_sum, indices_j1, Decimal('0'))\n",
    "\n",
    "    # Вторая сумма: ∑(j=1 to m) ∑(c=1 to n) ∑(k=1 to b)\n",
    "    # (c^4 - (47k^3 + c + 64k^2)^5 / 880 - 36j^7)\n",
    "    indices_j2 = range(1, m + 1)\n",
    "    second_sum = reduce(\n",
    "        lambda acc, j: compute_j_sum(acc, j, n, b),\n",
    "        indices_j2,\n",
    "        Decimal('0')\n",
    "    )\n",
    "\n",
    "    return first_sum + second_sum\n",
    "\n",
    "\n",
    "# Примеры вычислений\n",
    "print(float(main(2, 7, 8)))  # Ожидается ~ -5.41e+20\n",
    "print(float(main(2, 5, 8)))  # Ожидается ~ -4.45e+18\n",
    "print(float(main(7, 2, 7)))  # Ожидается ~ -5.80e+13\n",
    "print(float(main(5, 5, 5)))  # Ожидается ~ -6.95e+18\n",
    "print(float(main(4, 2, 6)))  # Ожидается ~ -2.81e+13)\n"
   ]
  },
  {
   "cell_type": "markdown",
   "metadata": {},
   "source": [
    "Четвертый вариант решения"
   ]
  },
  {
   "cell_type": "code",
   "execution_count": null,
   "metadata": {},
   "outputs": [],
   "source": []
  },
  {
   "cell_type": "markdown",
   "metadata": {},
   "source": [
    "Пятый вариант решения"
   ]
  },
  {
   "cell_type": "code",
   "execution_count": null,
   "metadata": {},
   "outputs": [],
   "source": []
  }
 ],
 "metadata": {
  "kernelspec": {
   "display_name": "Python 3",
   "language": "python",
   "name": "python3"
  },
  "language_info": {
   "codemirror_mode": {
    "name": "ipython",
    "version": 3
   },
   "file_extension": ".py",
   "mimetype": "text/x-python",
   "name": "python",
   "nbconvert_exporter": "python",
   "pygments_lexer": "ipython3",
   "version": "3.13.2"
  }
 },
 "nbformat": 4,
 "nbformat_minor": 2
}
