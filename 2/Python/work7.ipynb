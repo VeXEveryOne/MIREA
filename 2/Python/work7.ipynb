{
 "cells": [
  {
   "cell_type": "markdown",
   "metadata": {},
   "source": [
    "Первый вариант решения:"
   ]
  },
  {
   "cell_type": "code",
   "execution_count": null,
   "metadata": {},
   "outputs": [],
   "source": [
    "def main(row):\n",
    "    rules = [\n",
    "        (None, None, None, 1992, 1963, 10),\n",
    "        (None, None, None, 1992, None, 9),\n",
    "        (None, \"CLIPS\", 1971, None, 1963, 8),\n",
    "        (None, \"CLIPS\", 1971, None, None, 7),\n",
    "        (1973, \"M4\", 1971, None, None, 6),\n",
    "        (None, \"M4\", 1971, None, None, 5),\n",
    "        (None, \"OOC\", 1971, None, None, 4),\n",
    "        (1973, None, None, None, 1963, 3),\n",
    "        (1973, None, None, None, None, 2),\n",
    "        (None, None, None, None, 1963, 1),\n",
    "        (None, None, None, None, None, 0),\n",
    "    ]\n",
    "\n",
    "    for rule in rules:\n",
    "        match = True\n",
    "        for i in range(5):\n",
    "            if rule[i] is not None and row[i] != rule[i]:\n",
    "                match = False\n",
    "                break\n",
    "        if match:\n",
    "            return rule[5]\n"
   ]
  },
  {
   "cell_type": "markdown",
   "metadata": {},
   "source": [
    "Второй вариант решения:"
   ]
  },
  {
   "cell_type": "code",
   "execution_count": null,
   "metadata": {},
   "outputs": [
    {
     "name": "stdout",
     "output_type": "stream",
     "text": [
      "9\n",
      "3\n",
      "7\n",
      "1\n",
      "0\n"
     ]
    }
   ],
   "source": [
    "\n",
    "\n",
    "print(main([1973, 'M4', 1971, 1992, 1973]))     # 9\n",
    "print(main([1973, 'CLIPS', 1995, 1958, 1963]))  # 3\n",
    "print(main([1973, 'CLIPS', 1971, 1958, 1973]))  # 7\n",
    "print(main([2013, 'CLIPS', 1995, 1958, 1963]))  # 1\n",
    "print(main([2013, 'CLIPS', 1995, 1958, 1973]))  # 0\n"
   ]
  },
  {
   "cell_type": "markdown",
   "metadata": {},
   "source": [
    "Третий вариант решения:"
   ]
  },
  {
   "cell_type": "code",
   "execution_count": null,
   "metadata": {},
   "outputs": [
    {
     "name": "stdout",
     "output_type": "stream",
     "text": [
      "9\n",
      "3\n",
      "7\n",
      "1\n",
      "0\n"
     ]
    }
   ],
   "source": [
    "def node4(items):\n",
    "    match items[4]:\n",
    "        case 1973:\n",
    "            return 0\n",
    "        case 1963:\n",
    "            return 1\n",
    "\n",
    "\n",
    "def node4_alt(items):\n",
    "    match items[4]:\n",
    "        case 1973:\n",
    "            return 2\n",
    "        case 1963:\n",
    "            return 3\n",
    "\n",
    "\n",
    "def node0_m4(items):\n",
    "    match items[0]:\n",
    "        case 2013:\n",
    "            return 5\n",
    "        case 1973:\n",
    "            return 6\n",
    "\n",
    "\n",
    "def node4_clips(items):\n",
    "    match items[4]:\n",
    "        case 1973:\n",
    "            return 7\n",
    "        case 1963:\n",
    "            return 8\n",
    "\n",
    "\n",
    "def node1(items):\n",
    "    match items[1]:\n",
    "        case 'OOC':\n",
    "            return 4\n",
    "        case 'M4':\n",
    "            return node0_m4(items)\n",
    "        case 'CLIPS':\n",
    "            return node4_clips(items)\n",
    "\n",
    "\n",
    "def node0_clips(items):\n",
    "    match items[0]:\n",
    "        case 2013:\n",
    "            return node4(items)\n",
    "        case 1973:\n",
    "            return node4_alt(items)\n",
    "\n",
    "\n",
    "def node2(items):\n",
    "    match items[2]:\n",
    "        case 1995:\n",
    "            return node0_clips(items)\n",
    "        case 1971:\n",
    "            return node1(items)\n",
    "\n",
    "\n",
    "def node4_deep(items):\n",
    "    match items[4]:\n",
    "        case 1973:\n",
    "            return 9\n",
    "        case 1963:\n",
    "            return 10\n",
    "\n",
    "\n",
    "def node3(items):\n",
    "    match items[3]:\n",
    "        case 1958:\n",
    "            return node2(items)\n",
    "        case 1992:\n",
    "            return node4_deep(items)\n",
    "\n",
    "\n",
    "def main(items):\n",
    "    return node3(items)\n",
    "\n",
    "print(main([1973, 'M4', 1971, 1992, 1973]))     # 9\n",
    "print(main([1973, 'CLIPS', 1995, 1958, 1963]))  # 3\n",
    "print(main([1973, 'CLIPS', 1971, 1958, 1973]))  # 7\n",
    "print(main([2013, 'CLIPS', 1995, 1958, 1963]))  # 1\n",
    "print(main([2013, 'CLIPS', 1995, 1958, 1973]))  # 0\n"
   ]
  },
  {
   "cell_type": "markdown",
   "metadata": {},
   "source": [
    "Четвертый вариант решения:"
   ]
  },
  {
   "cell_type": "code",
   "execution_count": null,
   "metadata": {},
   "outputs": [],
   "source": [
    "def main(row):\n",
    "    keys = ['x0', 'x1', 'x2', 'x3', 'x4']\n",
    "    data = dict(zip(keys, row))\n",
    "\n",
    "    rules = [\n",
    "        {'conditions': {'x3': 1992, 'x4': 1963}, 'result': 10},\n",
    "        {'conditions': {'x3': 1992}, 'result': 9},\n",
    "        {'conditions': {'x2': 1971, 'x1': 'CLIPS', 'x4': 1963}, 'result': 8},\n",
    "        {'conditions': {'x2': 1971, 'x1': 'CLIPS'}, 'result': 7},\n",
    "        {'conditions': {'x2': 1971, 'x1': 'M4', 'x0': 1973}, 'result': 6},\n",
    "        {'conditions': {'x2': 1971, 'x1': 'M4'}, 'result': 5},\n",
    "        {'conditions': {'x2': 1971, 'x1': 'OOC'}, 'result': 4},\n",
    "        {'conditions': {'x0': 1973, 'x4': 1963}, 'result': 3},\n",
    "        {'conditions': {'x0': 1973}, 'result': 2},\n",
    "        {'conditions': {'x4': 1963}, 'result': 1},\n",
    "        {'conditions': {}, 'result': 0},\n",
    "    ]\n",
    "\n",
    "    for rule in rules:\n",
    "        if all(data.get(k) == v for k, v in rule['conditions'].items()):\n",
    "            return rule['result']\n"
   ]
  },
  {
   "cell_type": "markdown",
   "metadata": {},
   "source": [
    "Пятый вариант решения:"
   ]
  }
 ],
 "metadata": {
  "kernelspec": {
   "display_name": "Python 3",
   "language": "python",
   "name": "python3"
  },
  "language_info": {
   "codemirror_mode": {
    "name": "ipython",
    "version": 3
   },
   "file_extension": ".py",
   "mimetype": "text/x-python",
   "name": "python",
   "nbconvert_exporter": "python",
   "pygments_lexer": "ipython3",
   "version": "3.13.2"
  }
 },
 "nbformat": 4,
 "nbformat_minor": 2
}
