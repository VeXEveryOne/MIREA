{
 "cells": [
  {
   "cell_type": "markdown",
   "metadata": {},
   "source": [
    "Первый вариант решения:"
   ]
  },
  {
   "cell_type": "code",
   "execution_count": null,
   "metadata": {},
   "outputs": [],
   "source": [
    "def main(row):\n",
    "    rules = [\n",
    "        (None, None, None, 1992, 1963, 10),\n",
    "        (None, None, None, 1992, None, 9),\n",
    "        (None, \"CLIPS\", 1971, None, 1963, 8),\n",
    "        (None, \"CLIPS\", 1971, None, None, 7),\n",
    "        (1973, \"M4\", 1971, None, None, 6),\n",
    "        (None, \"M4\", 1971, None, None, 5),\n",
    "        (None, \"OOC\", 1971, None, None, 4),\n",
    "        (1973, None, None, None, 1963, 3),\n",
    "        (1973, None, None, None, None, 2),\n",
    "        (None, None, None, None, 1963, 1),\n",
    "        (None, None, None, None, None, 0),\n",
    "    ]\n",
    "\n",
    "    for rule in rules:\n",
    "        match = True\n",
    "        for i in range(5):\n",
    "            if rule[i] is not None and row[i] != rule[i]:\n",
    "                match = False\n",
    "                break\n",
    "        if match:\n",
    "            return rule[5]\n"
   ]
  },
  {
   "cell_type": "markdown",
   "metadata": {},
   "source": [
    "Четвертый вариант решения:"
   ]
  },
  {
   "cell_type": "code",
   "execution_count": null,
   "metadata": {},
   "outputs": [],
   "source": [
    "def main(row):\n",
    "    keys = ['x0', 'x1', 'x2', 'x3', 'x4']\n",
    "    data = dict(zip(keys, row))\n",
    "\n",
    "    rules = [\n",
    "        {'conditions': {'x3': 1992, 'x4': 1963}, 'result': 10},\n",
    "        {'conditions': {'x3': 1992}, 'result': 9},\n",
    "        {'conditions': {'x2': 1971, 'x1': 'CLIPS', 'x4': 1963}, 'result': 8},\n",
    "        {'conditions': {'x2': 1971, 'x1': 'CLIPS'}, 'result': 7},\n",
    "        {'conditions': {'x2': 1971, 'x1': 'M4', 'x0': 1973}, 'result': 6},\n",
    "        {'conditions': {'x2': 1971, 'x1': 'M4'}, 'result': 5},\n",
    "        {'conditions': {'x2': 1971, 'x1': 'OOC'}, 'result': 4},\n",
    "        {'conditions': {'x0': 1973, 'x4': 1963}, 'result': 3},\n",
    "        {'conditions': {'x0': 1973}, 'result': 2},\n",
    "        {'conditions': {'x4': 1963}, 'result': 1},\n",
    "        {'conditions': {}, 'result': 0},\n",
    "    ]\n",
    "\n",
    "    for rule in rules:\n",
    "        if all(data.get(k) == v for k, v in rule['conditions'].items()):\n",
    "            return rule['result']\n"
   ]
  }
 ],
 "metadata": {
  "kernelspec": {
   "display_name": "Python 3",
   "language": "python",
   "name": "python3"
  },
  "language_info": {
   "codemirror_mode": {
    "name": "ipython",
    "version": 3
   },
   "file_extension": ".py",
   "mimetype": "text/x-python",
   "name": "python",
   "nbconvert_exporter": "python",
   "pygments_lexer": "ipython3",
   "version": "3.13.2"
  }
 },
 "nbformat": 4,
 "nbformat_minor": 2
}
