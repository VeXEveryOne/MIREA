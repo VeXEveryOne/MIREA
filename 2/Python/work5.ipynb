{
 "cells": [
  {
   "cell_type": "markdown",
   "metadata": {},
   "source": [
    "Первый вариант решения:\n"
   ]
  },
  {
   "cell_type": "code",
   "execution_count": null,
   "metadata": {},
   "outputs": [
    {
     "name": "stdout",
     "output_type": "stream",
     "text": [
      "4484145542014.96\n",
      "9463628297038516.0\n",
      "13727449367203.88\n",
      "199725612162.85\n",
      "38070558122732.1\n"
     ]
    }
   ],
   "source": [
    "import math\n",
    "\n",
    "\n",
    "def main(z, x, y):\n",
    "    n = len(z)\n",
    "    total = 0\n",
    "    for i in range(1, n + 1):\n",
    "        term = (\n",
    "            56 * z[n-i]**2 +\n",
    "            4 * y[n-i] +\n",
    "            94 * x[n-math.ceil(i/4)]**3\n",
    "        )\n",
    "        total += 45 * term**6\n",
    "    return round(27 * total, 2)\n"
   ]
  },
  {
   "cell_type": "markdown",
   "metadata": {},
   "source": [
    "Второй вариант решения:"
   ]
  },
  {
   "cell_type": "code",
   "execution_count": null,
   "metadata": {},
   "outputs": [],
   "source": []
  },
  {
   "cell_type": "markdown",
   "metadata": {},
   "source": [
    "Третий вариант решения:"
   ]
  },
  {
   "cell_type": "code",
   "execution_count": null,
   "metadata": {},
   "outputs": [
    {
     "name": "stdout",
     "output_type": "stream",
     "text": [
      "4484145542014.96\n"
     ]
    }
   ],
   "source": [
    "from math import ceil\n",
    "\n",
    "\n",
    "def main(z, x, y):\n",
    "    n = len(z)\n",
    "    z.insert(0, 0)\n",
    "    x.insert(0, 0)\n",
    "    y.insert(0, 0)\n",
    "    i = 1\n",
    "    summa = 0\n",
    "    while i <= n:\n",
    "        zi = z[n + 1 - i]\n",
    "        yi = y[n + 1 - i]\n",
    "        xi = x[n + 1 - ceil(i / 4)]\n",
    "\n",
    "        term = 56 * zi ** 2 + 4 * yi + 94 * xi ** 3\n",
    "        summa += 45 * pow(term, 6)\n",
    "\n",
    "        i += 1\n",
    "\n",
    "    return round(27 * summa, 2)\n"
   ]
  },
  {
   "cell_type": "markdown",
   "metadata": {},
   "source": [
    "Четвертый вариант решения:"
   ]
  },
  {
   "cell_type": "code",
   "execution_count": null,
   "metadata": {},
   "outputs": [],
   "source": [
    "from math import ceil\n",
    "\n",
    "\n",
    "def calculate_recursive_sum(z, x, y, i, n, acc):\n",
    "    if i > n:\n",
    "        return acc\n",
    "    zi = z[n + 1 - i]\n",
    "    yi = y[n + 1 - i]\n",
    "    xi = x[n + 1 - ceil(i / 4)]\n",
    "\n",
    "    term = 56 * zi ** 2 + 4 * yi + 94 * xi ** 3\n",
    "    acc += 45 * pow(term, 6)\n",
    "\n",
    "    return calculate_recursive_sum(z, x, y, i + 1, n, acc)\n",
    "\n",
    "\n",
    "def main(z, x, y):\n",
    "    n = len(z)\n",
    "    z.insert(0, 0)\n",
    "    x.insert(0, 0)\n",
    "    y.insert(0, 0)\n",
    "    return round(27 * calculate_recursive_sum(z, x, y, 1, n, 0), 2)\n"
   ]
  }
 ],
 "metadata": {
  "kernelspec": {
   "display_name": "Python 3",
   "language": "python",
   "name": "python3"
  },
  "language_info": {
   "codemirror_mode": {
    "name": "ipython",
    "version": 3
   },
   "file_extension": ".py",
   "mimetype": "text/x-python",
   "name": "python",
   "nbconvert_exporter": "python",
   "pygments_lexer": "ipython3",
   "version": "3.13.2"
  }
 },
 "nbformat": 4,
 "nbformat_minor": 2
}
