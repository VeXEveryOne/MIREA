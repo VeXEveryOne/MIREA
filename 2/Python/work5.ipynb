{
 "cells": [
  {
   "cell_type": "markdown",
   "metadata": {},
   "source": [
    "Первый вариант решения:\n"
   ]
  },
  {
   "cell_type": "code",
   "execution_count": null,
   "metadata": {},
   "outputs": [
    {
     "name": "stdout",
     "output_type": "stream",
     "text": [
      "4484145542014.96\n",
      "9463628297038516.0\n",
      "13727449367203.88\n",
      "199725612162.85\n",
      "38070558122732.1\n"
     ]
    }
   ],
   "source": [
    "import math\n",
    "\n",
    "\n",
    "def main(z, x, y):\n",
    "    n = len(z)\n",
    "    total = 0\n",
    "    for i in range(1, n + 1):\n",
    "        term = (\n",
    "            56 * z[n-i]**2 +\n",
    "            4 * y[n-i] +\n",
    "            94 * x[n-math.ceil(i/4)]**3\n",
    "        )\n",
    "        total += 45 * term**6\n",
    "    return round(27 * total, 2)\n"
   ]
  }
 ],
 "metadata": {
  "kernelspec": {
   "display_name": "Python 3",
   "language": "python",
   "name": "python3"
  },
  "language_info": {
   "codemirror_mode": {
    "name": "ipython",
    "version": 3
   },
   "file_extension": ".py",
   "mimetype": "text/x-python",
   "name": "python",
   "nbconvert_exporter": "python",
   "pygments_lexer": "ipython3",
   "version": "3.13.2"
  }
 },
 "nbformat": 4,
 "nbformat_minor": 2
}
