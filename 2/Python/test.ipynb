{
 "cells": [
  {
   "cell_type": "code",
   "execution_count": null,
   "id": "81a295ab",
   "metadata": {},
   "outputs": [],
   "source": [
    "x = 3\n",
    "y = 4\n",
    "print((y & 3) + (x // 1 if x >= 2 else x))"
   ]
  },
  {
   "cell_type": "code",
   "execution_count": null,
   "id": "06ffe138",
   "metadata": {},
   "outputs": [],
   "source": [
    "x = 2\n",
    "y = 1\n",
    "print((1 if y != 2 else x | 3) + (y >> 2))"
   ]
  },
  {
   "cell_type": "code",
   "execution_count": null,
   "id": "be5255cf",
   "metadata": {},
   "outputs": [],
   "source": [
    "x = 3\n",
    "y = 5\n",
    "print((5 if x >= 2 else y) - (y % 1 if y >= 2 else x & 3))"
   ]
  },
  {
   "cell_type": "code",
   "execution_count": null,
   "id": "9d926f55",
   "metadata": {},
   "outputs": [],
   "source": [
    "x = 5\n",
    "y = 3\n",
    "print((y // 2 if y != 3 else 3) - (x >> 2))"
   ]
  },
  {
   "cell_type": "code",
   "execution_count": 1,
   "id": "f8116616",
   "metadata": {},
   "outputs": [
    {
     "data": {
      "text/plain": [
       "0"
      ]
     },
     "execution_count": 1,
     "metadata": {},
     "output_type": "execute_result"
    }
   ],
   "source": [
    "4&1"
   ]
  },
  {
   "cell_type": "code",
   "execution_count": null,
   "id": "9b02aa11",
   "metadata": {},
   "outputs": [],
   "source": []
  }
 ],
 "metadata": {
  "kernelspec": {
   "display_name": "Python 3",
   "language": "python",
   "name": "python3"
  },
  "language_info": {
   "codemirror_mode": {
    "name": "ipython",
    "version": 3
   },
   "file_extension": ".py",
   "mimetype": "text/x-python",
   "name": "python",
   "nbconvert_exporter": "python",
   "pygments_lexer": "ipython3",
   "version": "3.13.2"
  }
 },
 "nbformat": 4,
 "nbformat_minor": 5
}
