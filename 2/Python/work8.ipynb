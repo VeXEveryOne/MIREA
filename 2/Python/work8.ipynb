{
 "cells": [
  {
   "cell_type": "markdown",
   "metadata": {},
   "source": [
    "Первый вариант решения"
   ]
  },
  {
   "cell_type": "code",
   "execution_count": null,
   "metadata": {
    "vscode": {
     "languageId": "plaintext"
    }
   },
   "outputs": [],
   "source": [
    "def main(fields):\n",
    "    L1 = int(fields.get('L1', '0x0'), 16) & 0x1\n",
    "    L2 = int(fields.get('L2', '0x0'), 16) & 0x1F\n",
    "    L3 = int(fields.get('L3', '0x0'), 16) & 0x3F\n",
    "    L4 = int(fields.get('L4', '0x0'), 16) & 0x7F\n",
    "\n",
    "    result = (L4 << 11) | (L3 << 6) | (L2 << 1) | L1\n",
    "    return f\"0x{result:x}\"\n"
   ]
  },
  {
   "cell_type": "markdown",
   "metadata": {},
   "source": [
    "Второй вариант решения"
   ]
  },
  {
   "cell_type": "code",
   "execution_count": null,
   "metadata": {
    "vscode": {
     "languageId": "plaintext"
    }
   },
   "outputs": [],
   "source": [
    "def main(fields):\n",
    "    result = 0\n",
    "\n",
    "    if 'L1' in fields:\n",
    "        value = int(fields['L1'], 16)\n",
    "        result |= (value & 0x1) << 0\n",
    "\n",
    "    if 'L2' in fields:\n",
    "        value = int(fields['L2'], 16)\n",
    "        result |= (value & 0x1F) << 1\n",
    "\n",
    "    if 'L3' in fields:\n",
    "        value = int(fields['L3'], 16)\n",
    "        result |= (value & 0x3F) << 6\n",
    "\n",
    "    if 'L4' in fields:\n",
    "        value = int(fields['L4'], 16)\n",
    "        result |= (value & 0x7F) << 11\n",
    "\n",
    "    return hex(result)\n"
   ]
  }
 ],
 "metadata": {
  "language_info": {
   "name": "python"
  }
 },
 "nbformat": 4,
 "nbformat_minor": 2
}
