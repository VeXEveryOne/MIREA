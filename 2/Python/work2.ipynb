{
 "cells": [
  {
   "cell_type": "markdown",
   "metadata": {},
   "source": [
    "Первый вариант"
   ]
  },
  {
   "cell_type": "code",
   "execution_count": null,
   "metadata": {
    "vscode": {
     "languageId": "plaintext"
    }
   },
   "outputs": [],
   "source": [
    "def main(z):\n",
    "    if z < 66:\n",
    "        return (z**15) / 65\n",
    "    if z < 147:\n",
    "        return 35 * z**4 + z**5 + 17 * (72 * z + 70 * z**2 + 0.01)**3\n",
    "    if z < 198:\n",
    "        return (z**4) / 97\n",
    "    if z < 255:\n",
    "        return 75 * (((z**3) / 58) + z)**2\n",
    "    return (6 - z)**3 - (64 * z**2)**7 - 54\n"
   ]
  },
  {
   "cell_type": "markdown",
   "metadata": {},
   "source": [
    "Второй вариант"
   ]
  },
  {
   "cell_type": "code",
   "execution_count": null,
   "metadata": {
    "vscode": {
     "languageId": "plaintext"
    }
   },
   "outputs": [],
   "source": [
    "def main(z):\n",
    "    match z:\n",
    "        case _ if z < 66:\n",
    "            return (z**15) / 65\n",
    "        case _ if z < 147:\n",
    "            return 35 * z**4 + z**5 + 17 * (72 * z + 70 * z**2 + 0.01) ** 3\n",
    "        case _ if z < 198:\n",
    "            return (z**4) / 97\n",
    "        case _ if z < 255:\n",
    "            return 75 * (((z**3) / 58) + z) ** 2\n",
    "        case _:\n",
    "            return (6 - z) ** 3 - (64 * z**2) ** 7 - 54\n"
   ]
  },
  {
   "cell_type": "markdown",
   "metadata": {},
   "source": [
    "Третий вариант решения"
   ]
  },
  {
   "cell_type": "code",
   "execution_count": null,
   "metadata": {
    "vscode": {
     "languageId": "plaintext"
    }
   },
   "outputs": [],
   "source": [
    "def main(z):\n",
    "    cases = {\n",
    "        \"case_1\": lambda z: (z**15) / 65,\n",
    "        \"case_2\": lambda z: (\n",
    "            35 * z**4 + z**5 + 17 * (72 * z + 70 * z**2 + 0.01) ** 3\n",
    "        ),\n",
    "        \"case_3\": lambda z: (z**4) / 97,\n",
    "        \"case_4\": lambda z: 75 * (((z**3) / 58) + z) ** 2,\n",
    "        \"case_5\": lambda z: (6 - z) ** 3 - (64 * z**2) ** 7 - 54,\n",
    "    }\n",
    "\n",
    "    case_key = next(\n",
    "        (key for key, cond in {\n",
    "            \"case_1\": z < 66,\n",
    "            \"case_2\": 66 <= z < 147,\n",
    "            \"case_3\": 147 <= z < 198,\n",
    "            \"case_4\": 198 <= z < 255,\n",
    "        }.items() if cond),\n",
    "        \"case_5\",\n",
    "    )\n",
    "\n",
    "    return cases[case_key](z)\n"
   ]
  }
 ],
 "metadata": {
  "language_info": {
   "name": "python"
  }
 },
 "nbformat": 4,
 "nbformat_minor": 2
}
