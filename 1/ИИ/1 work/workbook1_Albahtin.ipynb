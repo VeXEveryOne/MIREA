{
  "metadata": {
    "kernelspec": {
      "name": "python3",
      "display_name": "Python 3"
    },
    "language_info": {
      "name": "python"
    },
    "colab": {
      "provenance": [],
      "collapsed_sections": [
        "ME3Iyjzcwg_C",
        "TpykrLPBwkPL",
        "PnMbF8Be6XhV",
        "8YfqgiIGxKxA",
        "zzU_DxumxNRO",
        "DU-mx_LYxSpm",
        "kZ5D3WTVxU-L",
        "Q3YxGjU-xWiu",
        "Jt73P5ikxYlS",
        "qGNAXSioxadW",
        "11JhDq4rxcqm",
        "QmDuMC1UwNbS",
        "YC8LaQ5hy5sT",
        "QDQP7G4231Zu",
        "woXqObAG4U2b",
        "Oc8ANxkBzLin",
        "S6suF0U20GP_",
        "DOIa45yQ1jZk",
        "2zLAffXz3hH9",
        "c2tZS6Sz5uxd",
        "vqfZGiYp6prN",
        "lRQsk3F19Pa3"
      ]
    }
  },
  "nbformat_minor": 0,
  "nbformat": 4,
  "cells": [
    {
      "cell_type": "markdown",
      "source": [
        "\n",
        "\n",
        "---\n",
        "\n",
        "\n",
        "#1.1. Теоретический материал – Типы данных\n",
        "\n",
        "\n",
        "---\n",
        "\n"
      ],
      "metadata": {
        "id": "eCBYqck46jgA"
      }
    },
    {
      "cell_type": "markdown",
      "source": [
        "**Типы данных**\n",
        "\n",
        "Все типы данных в Python относятся к одной из 2-х категорий:\n",
        "*изменяемые (mutable)* и *неизменяемые (immutable)*.\n",
        "\n",
        "---\n",
        "\n",
        "\n",
        "\n",
        "**Неизменяемые объекты:**\n",
        "- числовые данные (int, float),\n",
        "- bool,\n",
        "- None,\n",
        "- символьные строки (class 'str'),\n",
        "- кортежи (tuple).\n",
        "\n",
        "---\n",
        "\n",
        "\n",
        "\n",
        "**Изменяемые объекты:**\n",
        "- списки (list),\n",
        "- множества (set),\n",
        "- словари (dict).\n",
        "\n",
        "---\n",
        "\n"
      ],
      "metadata": {
        "id": "jCeJQ13hwSJV"
      }
    },
    {
      "cell_type": "markdown",
      "source": [
        "##1.2. Пример\n",
        "\n",
        "---\n",
        "\n",
        "\n",
        "**Задача:**\n",
        "\n",
        "---\n",
        "\n",
        "\n",
        "\n",
        "*Выведите на печать и определите тип переменной.*\n",
        "\n",
        "---\n",
        "\n",
        "\n",
        "\n",
        "**Решение:**"
      ],
      "metadata": {
        "id": "ME3Iyjzcwg_C"
      }
    },
    {
      "cell_type": "code",
      "source": [
        "x = 3+(5.2*7)\n",
        "y = None\n",
        "z = 'a', 5, 12.345, (2, 'b')\n",
        "df = [['Анонова Антонина', 34, 'ж'], ['Борисов Борис', 26, 'м']]\n",
        "A = {1, 'title', 2, 'content'}\n",
        "print(x, '|', type(x), '\\n', y, '|', type(y), '\\n', z, '|', type(z), '\\n', df, '|', type(df), '\\n', A, '|', type(A) )"
      ],
      "metadata": {
        "trusted": true,
        "id": "mtsb3OKRv-XC",
        "outputId": "3cd91353-8337-444c-f8c8-185999b13ce6"
      },
      "outputs": [
        {
          "name": "stdout",
          "text": "39.4 | <class 'float'> \n None | <class 'NoneType'> \n ('a', 5, 12.345, (2, 'b')) | <class 'tuple'> \n [['Анонова Антонина', 34, 'ж'], ['Борисов Борис', 26, 'м']] | <class 'list'> \n {'title', 1, 2, 'content'} | <class 'set'>\n",
          "output_type": "stream"
        }
      ],
      "execution_count": null
    },
    {
      "cell_type": "markdown",
      "source": [
        "##1.3. Задание\n",
        "\n",
        "---\n",
        "\n",
        "\n",
        "**Задача:**\n",
        "\n",
        "---\n",
        "\n",
        "\n",
        "\n",
        "*Выведите на печать и определите тип переменной.*\n",
        "\n",
        "---\n",
        "\n",
        "\n",
        "\n",
        "**Решение:**\n"
      ],
      "metadata": {
        "id": "TpykrLPBwkPL"
      }
    },
    {
      "cell_type": "code",
      "source": [
        "x = 5 >=2\n",
        "A = {1, 3, 7, 8}\n",
        "B = {2, 4, 5, 10, 'apple'}\n",
        "C = A&B\n",
        "df = 'Антонова Антонина', 34, 'ж'\n",
        "z = 'type'\n",
        "D = [1, 'title', 2, 'content']\n",
        "print(x, '|', type(x), '\\n', A, '|', type(A), '\\n', B, '|', type(B), '\\n', C, '|', type(C), '\\n', df, '|', type(df), z, '|', type(z), '\\n', D, '|', type(D))"
      ],
      "metadata": {
        "trusted": true,
        "id": "OF5Klqzjv-XD",
        "outputId": "0c3f9e4c-d826-48e0-beea-34727150089f"
      },
      "outputs": [
        {
          "name": "stdout",
          "text": "True | <class 'bool'> \n {8, 1, 3, 7} | <class 'set'> \n {2, 4, 5, 10, 'apple'} | <class 'set'> \n set() | <class 'set'> \n ('Антонова Антонина', 34, 'ж') | <class 'tuple'> type | <class 'str'> \n [1, 'title', 2, 'content'] | <class 'list'>\n",
          "output_type": "stream"
        }
      ],
      "execution_count": null
    },
    {
      "cell_type": "markdown",
      "source": [
        "\n",
        "\n",
        "---\n",
        "\n",
        "\n",
        "#2.1. Теоретический материал – Условный оператор\n",
        "\n",
        "\n",
        "\n",
        "---\n",
        "\n"
      ],
      "metadata": {
        "id": "PnMbF8Be6XhV"
      }
    },
    {
      "cell_type": "markdown",
      "source": [
        "##If – Условный оператор\n",
        "\n",
        "---\n",
        "\n",
        "\n",
        "\n",
        "В коде часто приходится проверять выполнимость или\n",
        "невыполнимость каких-то условий.\n",
        "\n",
        "\n",
        "---\n",
        "\n",
        "\n",
        "#Синтаксис:\n",
        "\n",
        "if <условие1 (булевское выражение)> :\n",
        "\n",
        "  <код, который выполнится, если условие верно>\n",
        "\n",
        "elif <условие2 (булевское выражение)>:\n",
        "\n",
        "  <код, который выполнится, если условие1 было неверно, а\n",
        "условие2 верно>\n",
        "\n",
        "else:\n",
        "\n",
        "<код, который выполнится, если условие1 и условие2 были\n",
        "неверны>\n",
        "\n",
        "\n",
        "\n",
        "---\n",
        "\n",
        "\n",
        "**Обратите внимание**, что код, который должен выполняться внутри\n",
        "каждого условия, записывается с отступом в 4 пробела от уровня if, elif и\n",
        "else: в питоне области видимости переменных обозначаются отступами.\n",
        "То есть, отступы позволяют понять, где начинается код,\n",
        "который должен выполняться при выполнении условия в if, и где\n",
        "заканчивается."
      ],
      "metadata": {
        "id": "of6Kgj7Mwp6u"
      }
    },
    {
      "cell_type": "markdown",
      "source": [
        "##2.2. Пример\n",
        "**Задание:**\n",
        "\n",
        "*Вывести на экран является ли переменная х положительной,\n",
        "отрицательной или равна нулю.*\n",
        "\n",
        "**Решение:**"
      ],
      "metadata": {
        "id": "8YfqgiIGxKxA"
      }
    },
    {
      "cell_type": "code",
      "source": [
        "x = 125\n",
        "if x<0:\n",
        "    print(\"x отрицательный\")\n",
        "elif x==0:\n",
        "    print('x равен нулю')\n",
        "else:\n",
        "    print ('x положительный')"
      ],
      "metadata": {
        "trusted": true,
        "id": "zqG8WpMTv-XF",
        "outputId": "a65e59c1-23da-4c91-d944-e51304a1db3e"
      },
      "outputs": [
        {
          "name": "stdout",
          "text": "x положительный\n",
          "output_type": "stream"
        }
      ],
      "execution_count": null
    },
    {
      "cell_type": "markdown",
      "source": [
        "##2.3. Задание\n",
        "**Задача:**\n",
        "\n",
        "*Напишите код. Задается х, напечатать какому из интервалов\n",
        "принадлежит: (-infinity, -5), [-5, 5] или от (5, +infinity)*\n",
        "\n",
        "**Решение:**"
      ],
      "metadata": {
        "id": "zzU_DxumxNRO"
      }
    },
    {
      "cell_type": "code",
      "source": [
        "print('Введите х')\n",
        "x = int(input())\n",
        "if x<-5:\n",
        "    print('х принадлежит отрезку (-infinity, -5)')\n",
        " \u0000p\u0000 x>=-5 and x<=5r\n",
        "    print('х принадлежит отрезку (-5, 5)')\n",
        "else:\n",
        "    print('х принадлежит отрезку (5, +infinity)')\n"
      ],
      "metadata": {
        "trusted": true,
        "id": "yodjEtsAv-XH"
      },
      "outputs": [],
      "execution_count": null
    },
    {
      "cell_type": "markdown",
      "source": [
        "\n",
        "\n",
        "---\n",
        "\n",
        "\n",
        "#3.1. Теоретический материал – Циклы, массивы, срезы\n",
        "\n",
        "\n",
        "---\n",
        "\n"
      ],
      "metadata": {
        "id": "L-i9WfTg5jyK"
      }
    },
    {
      "cell_type": "markdown",
      "source": [
        "#Циклы - for и while\n",
        "\n",
        "---\n",
        "\n",
        "\n",
        "\n",
        "**Цикл while** проверяет истинность условия, и если условие истинно, то\n",
        "выполняет инструкции цикла.\n",
        "\n",
        "---\n",
        "\n",
        "\n",
        "\n",
        "#Синтаксис while:\n",
        "while <условие>:\n",
        "\n",
        "<инструкции, которые относятся к циклу while, располагаются на\n",
        "последующих строках и должны иметь отступ от начала ключевого слова\n",
        "\"while\".>\n",
        "\n",
        "**Цикл for** проходит по набору значений, помещает каждое значение в\n",
        "переменную с которой в цикле можно производить различные действия.\n",
        "\n",
        "---\n",
        "\n",
        "\n",
        "\n",
        "#Синтаксис for:\n",
        "for <переменная> in <набор_значений>:\n",
        "\n",
        "<инструкции>\n",
        "\n",
        "---\n",
        "\n",
        "\n",
        "\n",
        "После ключевого слова for идет название переменной, в которую\n",
        "будут помещаться значения. После оператора in указывается набор значений\n",
        "и двоеточие. Инструкции, которые относятся к циклу, располагаются на\n",
        "последующих строках и должны иметь отступ.\n",
        "\n",
        "---\n",
        "\n",
        "\n",
        "\n",
        "*При создании цикла удобно пользоваться функцией range(a, b),\n",
        "которая создает последовательность чисел от a до b-1.*"
      ],
      "metadata": {
        "id": "1RHdDjMexQdP"
      }
    },
    {
      "cell_type": "markdown",
      "source": [
        "##3.2.1. Пример\n",
        "\n",
        "---\n",
        "\n",
        "\n",
        "**Задача:**\n",
        "\n",
        "---\n",
        "\n",
        "\n",
        "\n",
        "*Вывести все числа от 1 до 10 с шагом 3.*\n",
        "\n",
        "---\n",
        "\n",
        "\n",
        "\n",
        "**Решение:**"
      ],
      "metadata": {
        "id": "DU-mx_LYxSpm"
      }
    },
    {
      "cell_type": "code",
      "source": [
        "x = 1\n",
        "while x<=10:\n",
        "    print(x)\n",
        "    x+=3"
      ],
      "metadata": {
        "trusted": true,
        "id": "ucwAgjHwv-XJ",
        "outputId": "a2ec33b2-2901-4be1-9830-6b18c82592e7",
        "colab": {
          "base_uri": "https://localhost:8080/"
        }
      },
      "outputs": [
        {
          "output_type": "stream",
          "name": "stdout",
          "text": [
            "1\n",
            "4\n",
            "7\n",
            "10\n"
          ]
        }
      ],
      "execution_count": null
    },
    {
      "cell_type": "markdown",
      "source": [
        "##3.2.2. Пример\n",
        "\n",
        "---\n",
        "\n",
        "\n",
        "**Задача:**\n",
        "\n",
        "---\n",
        "\n",
        "\n",
        "\n",
        "*Задан список. Напечатать все элементы списка.*\n",
        "\n",
        "---\n",
        "\n",
        "\n",
        "\n",
        "**Решение:**"
      ],
      "metadata": {
        "id": "kZ5D3WTVxU-L"
      }
    },
    {
      "cell_type": "code",
      "source": [
        "models = ['KNN', 'decision tree', 'linear model']\n",
        "for model in models:\n",
        "    print(model)"
      ],
      "metadata": {
        "trusted": true,
        "id": "S27-omoQv-XK",
        "outputId": "399331a7-b305-49cb-e82d-69066346ed6b"
      },
      "outputs": [
        {
          "name": "stdout",
          "text": "KNN\ndecision tree\nlinear model\n",
          "output_type": "stream"
        }
      ],
      "execution_count": null
    },
    {
      "cell_type": "markdown",
      "source": [
        "##3.2.3. Пример\n",
        "\n",
        "---\n",
        "\n",
        "\n",
        "**Задача:**\n",
        "\n",
        "---\n",
        "\n",
        "\n",
        "\n",
        "*Создать список от 1 до 99 с шагом 7.*\n",
        "\n",
        "---\n",
        "\n",
        "\n",
        "\n",
        "**Решение:**"
      ],
      "metadata": {
        "id": "Q3YxGjU-xWiu"
      }
    },
    {
      "cell_type": "code",
      "source": [
        "list_int = range(1, 100, 7)\n",
        "print(list(list_int))"
      ],
      "metadata": {
        "trusted": true,
        "id": "gwOcgEiuv-XK",
        "outputId": "1d328fc1-5184-43c8-82fb-164744558f18"
      },
      "outputs": [
        {
          "name": "stdout",
          "text": "[1, 8, 15, 22, 29, 36, 43, 50, 57, 64, 71, 78, 85, 92, 99]\n",
          "output_type": "stream"
        }
      ],
      "execution_count": null
    },
    {
      "cell_type": "markdown",
      "source": [
        "##3.2.4. Пример\n",
        "\n",
        "---\n",
        "\n",
        "\n",
        "**Задача:**\n",
        "\n",
        "---\n",
        "\n",
        "\n",
        "\n",
        "*Вывести на экран числа от 1 до 105 с шагом 25, используя функцию\n",
        "range().*\n",
        "\n",
        "---\n",
        "\n",
        "\n",
        "\n",
        "**Решение:**"
      ],
      "metadata": {
        "id": "Jt73P5ikxYlS"
      }
    },
    {
      "cell_type": "code",
      "source": [
        "for i in range(5, 106, 25):\n",
        "    print(i)"
      ],
      "metadata": {
        "trusted": true,
        "colab": {
          "base_uri": "https://localhost:8080/"
        },
        "id": "y230DDTvv-XL",
        "outputId": "8e91d1b6-3fdd-40f0-a3ae-8d013d5a41ec"
      },
      "outputs": [
        {
          "output_type": "stream",
          "name": "stdout",
          "text": [
            "5\n",
            "30\n",
            "55\n",
            "80\n",
            "105\n"
          ]
        }
      ],
      "execution_count": null
    },
    {
      "cell_type": "markdown",
      "source": [
        "##3.2.5. Пример\n",
        "\n",
        "---\n",
        "\n",
        "\n",
        "**Задача:**\n",
        "\n",
        "---\n",
        "\n",
        "\n",
        "\n",
        "*Срез. Необходимо получить каждый k-й элемент массива a, начиная с\n",
        "элемента с индексом i (включительно) и заканчивая элементом с\n",
        "индексом j (не включительно), c шагом 2. Или переставить все\n",
        "элементы в обратном порядке.*\n",
        "\n",
        "---\n",
        "\n",
        "\n",
        "\n",
        "**Решение:**"
      ],
      "metadata": {
        "id": "qGNAXSioxadW"
      }
    },
    {
      "cell_type": "code",
      "source": [
        "a = [1,2,3,4,5,6,7,8,9]\n",
        "b = a[1:7:2]\n",
        "c = a[::-1]\n",
        "print(b)\n",
        "print(c)"
      ],
      "metadata": {
        "trusted": true,
        "id": "LBc_iBrgv-XL",
        "outputId": "18c71217-23ce-44a4-aa18-1a129b73fdc5"
      },
      "outputs": [
        {
          "name": "stdout",
          "text": "[2, 4, 6]\n[9, 8, 7, 6, 5, 4, 3, 2, 1]\n",
          "output_type": "stream"
        }
      ],
      "execution_count": null
    },
    {
      "cell_type": "markdown",
      "source": [
        "##3.3.1. Задание\n",
        "\n",
        "---\n",
        "\n",
        "\n",
        "**Задача:**\n",
        "\n",
        "---\n",
        "\n",
        "\n",
        "\n",
        "\n",
        "*Выведите числа из примера на while (3.2.1) в обратном порядке.*\n",
        "\n",
        "---\n",
        "\n",
        "\n",
        "\n",
        "**Решение:**"
      ],
      "metadata": {
        "id": "11JhDq4rxcqm"
      }
    },
    {
      "cell_type": "code",
      "source": [
        "x = 10\n",
        "while x>=1:\n",
        "    print(x)\n",
        "    x-=3"
      ],
      "metadata": {
        "trusted": true,
        "id": "foV77Jokv-XL",
        "outputId": "5787012b-15a2-4ea1-edd4-111c4b78ea41"
      },
      "outputs": [
        {
          "name": "stdout",
          "text": "10\n7\n4\n1\n",
          "output_type": "stream"
        }
      ],
      "execution_count": null
    },
    {
      "cell_type": "markdown",
      "source": [
        "##3.3.2. Задание\n",
        "\n",
        "---\n",
        "\n",
        "\n",
        "**Задача:**\n",
        "\n",
        "---\n",
        "\n",
        "\n",
        "\n",
        "*При решении задач машинного обучения часто в качестве объектов\n",
        "исследования выступает человек. Создайте список значимых\n",
        "характеристик (признаков), идентифицирующих человека. Выведите\n",
        "список на экран.*\n",
        "\n",
        "---\n",
        "\n",
        "\n",
        "\n",
        "**Решение:**"
      ],
      "metadata": {
        "id": "QmDuMC1UwNbS"
      }
    },
    {
      "cell_type": "code",
      "source": [
        "print('Human')\n",
        "age = 19\n",
        "weigth = 73\n",
        "name = 'Ilya'\n",
        "gender = 'men'\n",
        "skin = 'white'\n",
        "heir = 'brown'\n"
      ],
      "metadata": {
        "trusted": true,
        "id": "6NQKhmySv-XM"
      },
      "outputs": [],
      "execution_count": null
    },
    {
      "cell_type": "markdown",
      "source": [
        "##3.3.3 Задание\n",
        "\n",
        "---\n",
        "\n",
        "\n",
        "**Задача:**\n",
        "\n",
        "---\n",
        "\n",
        "\n",
        "\n",
        "*Создать список чисел от 2 до 15 с шагом 1.*\n",
        "\n",
        "---\n",
        "\n",
        "\n",
        "\n",
        "**Решение:**"
      ],
      "metadata": {
        "id": "YC8LaQ5hy5sT"
      }
    },
    {
      "cell_type": "code",
      "source": [
        "list_int = range(2, 16, 1)\n",
        "print(list(list_int))"
      ],
      "metadata": {
        "id": "pxTyEpZdy7nb"
      },
      "execution_count": null,
      "outputs": []
    },
    {
      "cell_type": "markdown",
      "source": [
        "##3.3.4 Задание\n",
        "\n",
        "---\n",
        "\n",
        "\n",
        "**Задача:**\n",
        "\n",
        "---\n",
        "\n",
        "\n",
        "\n",
        "*Выведите числа из примера на for c функцией range() (3.2.4) в\n",
        "обратном порядке.*\n",
        "\n",
        "---\n",
        "\n",
        "\n",
        "\n",
        "**Решение:**"
      ],
      "metadata": {
        "id": "QDQP7G4231Zu"
      }
    },
    {
      "cell_type": "code",
      "source": [
        "for i in range(105, 4, -25):\n",
        "    print(i)"
      ],
      "metadata": {
        "id": "YpXIfnSB323D"
      },
      "execution_count": null,
      "outputs": []
    },
    {
      "cell_type": "markdown",
      "source": [
        "## 3.3.5 Задание\n",
        "\n",
        "---\n",
        "\n",
        "\n",
        "**Задача:**\n",
        "\n",
        "---\n",
        "\n",
        "\n",
        "\n",
        "*Срез. Напишите код, который все элементы массива x с четными\n",
        "индексами переставит в обратном порядке. Т.е. если x = [0, 1, 2, 3, 4,\n",
        "5, 6, 7, 8, 9], то код должен сформировать [8, 1, 6, 3, 4, 5, 2, 7, 0, 9].*\n",
        "\n",
        "---\n",
        "\n",
        "\n",
        "\n",
        "**Решение:**"
      ],
      "metadata": {
        "id": "woXqObAG4U2b"
      }
    },
    {
      "cell_type": "code",
      "source": [
        "x3 = []\n",
        "for key, a in enumerate([x for x in range(10)][1::2]):\n",
        "    x3.append(list(reversed([x for x in range(10)][::2]))[key])\n",
        "    x3.append(a)\n",
        "print(x3)"
      ],
      "metadata": {
        "id": "nqPBXPiO4X-V",
        "colab": {
          "base_uri": "https://localhost:8080/"
        },
        "outputId": "70f34128-3ab5-426d-e370-a1bab2a88f53"
      },
      "execution_count": null,
      "outputs": [
        {
          "output_type": "stream",
          "name": "stdout",
          "text": [
            "[8, 1, 6, 3, 4, 5, 2, 7, 0, 9]\n"
          ]
        }
      ]
    },
    {
      "cell_type": "markdown",
      "source": [
        "\n",
        "\n",
        "---\n",
        "\n",
        "\n",
        "#4.1. Теоретический материал - Библиотеки\n",
        "\n",
        "\n",
        "---"
      ],
      "metadata": {
        "id": "pearFppFyIAd"
      }
    },
    {
      "cell_type": "markdown",
      "source": [
        "Машинное обучение опирается на фундаментальные понятия и законы\n",
        "математики и информатики.\n",
        "\n",
        "Библиотека математических функций (math) применяется при решении большинства прикладных задач анализа данных.\n",
        "\n",
        "Также, и некоторые другие библиотеки Python содержат математические\n",
        "функции (например, NumPy).\n",
        "\n",
        "Важную роль играет библиотека matplotlib, которая позволяет производить визуализацию расчетов в удобной для восприятия человеком форме:\n",
        "**графики, диаграммы, гистограммы.**\n",
        "\n",
        "\n",
        "---\n",
        "\n",
        "\n",
        "\n",
        "**Подключение библиотек – синтаксис:**\n",
        "\n",
        "* import math as m\n",
        "\n",
        "* import numpy as np\n",
        "\n",
        "* import matplotlib.pyplot as plt\n",
        "\n",
        "* etc…\n",
        "\n",
        "\n",
        "---\n",
        "\n",
        "\n",
        "\n",
        "Библиотеки в python содержат **не только функции**, позволяющие решать\n",
        "различные задачи, но и некоторые популярные константы, например число\n",
        "Эйлера **Текст, выделенный полужирным шрифтом**.\n",
        "\n",
        "---\n",
        "\n"
      ],
      "metadata": {
        "id": "IuCnk2eRyhbC"
      }
    },
    {
      "cell_type": "markdown",
      "source": [
        "##4.2.1 Пример\n",
        "\n",
        "---\n",
        "\n",
        "\n",
        "**Задача:**\n",
        "\n",
        "---\n",
        "\n",
        "\n",
        "\n",
        "*Рассчитать синус от е радиан и вывести результат на экран*\n",
        "\n",
        "---\n",
        "\n",
        "\n",
        "\n",
        "**Решение:**\n"
      ],
      "metadata": {
        "id": "Oc8ANxkBzLin"
      }
    },
    {
      "cell_type": "code",
      "source": [
        "import math as m\n",
        "print(m.sin(m.e))"
      ],
      "metadata": {
        "colab": {
          "base_uri": "https://localhost:8080/"
        },
        "id": "IwHUZam5z07z",
        "outputId": "cb5c31c0-f8c7-4ba2-fe0d-c9fd51da0d69"
      },
      "execution_count": null,
      "outputs": [
        {
          "output_type": "stream",
          "name": "stdout",
          "text": [
            "0.41078129050290885\n"
          ]
        }
      ]
    },
    {
      "cell_type": "markdown",
      "source": [
        "##4.2.2 Пример\n",
        "\n",
        "---\n",
        "\n",
        "\n",
        "\n",
        "**Задача:**\n",
        "\n",
        "---\n",
        "\n",
        "\n",
        "\n",
        "*Для функции **sin(𝑥𝑒^cos(𝑥))** на интервале [0;10] с шагом 0,05 построить график функции, закрасить площадь под ним и вычислить значение\n",
        "этой площади.*\n",
        "\n",
        "**Примечание:**\n",
        "\n",
        "Для вычисления площади воспользуйте функции **trapz()**, вычисляющей\n",
        "интеграл по правилу трапеции. Для ее корректной работы необходимо\n",
        "подключить следующие библиотеки:\n",
        "\n",
        "* from scipy.integrate import simps\n",
        "\n",
        "* from numpy import trapz\n",
        "\n",
        "---\n",
        "\n",
        "\n",
        "\n",
        "**Решение:**"
      ],
      "metadata": {
        "id": "S6suF0U20GP_"
      }
    },
    {
      "cell_type": "code",
      "source": [
        "import numpy as np\n",
        "import matplotlib.pyplot as plt\n",
        "from scipy.integrate import simps\n",
        "from numpy import trapz\n",
        "\n",
        "\n",
        "x = np.arange(0.0, 10, 0.1)\n",
        "y = np.abs(np.sin(x*np.exp(np.cos(x))))\n",
        "plt.grid()\n",
        "plt.plot(x,y,c = \"r\")\n",
        "plt.fill_between(x,y)\n",
        "area = trapz(y)\n",
        "print(area)"
      ],
      "metadata": {
        "colab": {
          "base_uri": "https://localhost:8080/",
          "height": 448
        },
        "id": "m2EfLlw60zGS",
        "outputId": "b71be1e2-1f0b-4324-b485-93df964f93e7"
      },
      "execution_count": null,
      "outputs": [
        {
          "output_type": "stream",
          "name": "stdout",
          "text": [
            "73.50792907748662\n"
          ]
        },
        {
          "output_type": "display_data",
          "data": {
            "text/plain": [
              "<Figure size 640x480 with 1 Axes>"
            ],
            "image/png": "[encoded data removed]"
          },
          "metadata": {}
        }
      ]
    },
    {
      "cell_type": "markdown",
      "source": [
        "##4.2.3 Пример\n",
        "\n",
        "---\n",
        "\n",
        "\n",
        "\n",
        "**Задача:**\n",
        "\n",
        "---\n",
        "\n",
        "\n",
        "\n",
        "*Дано некоторое распределение оценок в группе за экзамен. Нарисовать\n",
        "круговую и точечную диаграммы распределения.*\n",
        "\n",
        "---\n",
        "\n",
        "\n",
        "\n",
        "**Решение:**\n",
        "\n"
      ],
      "metadata": {
        "id": "DOIa45yQ1jZk"
      }
    },
    {
      "cell_type": "code",
      "source": [
        "from matplotlib import pyplot as plt\n",
        "import numpy as np\n",
        "\n",
        "marks = ['Неуд', 'Удов', 'Хор', 'Отл']\n",
        "\n",
        "data = [3, 7, 8, 4]\n",
        "fig = plt.figure(figsize =(10,7))\n",
        "plt.pie(data, labels = marks)\n",
        "plt.show()\n",
        "plt.grid()\n",
        "plt.scatter(marks, data)\n"
      ],
      "metadata": {
        "colab": {
          "base_uri": "https://localhost:8080/",
          "height": 1000
        },
        "id": "HsT93CEo2kAo",
        "outputId": "9a0cd9fe-9b5f-4129-cd46-34226acf504a"
      },
      "execution_count": null,
      "outputs": [
        {
          "output_type": "display_data",
          "data": {
            "text/plain": [
              "<Figure size 1000x700 with 1 Axes>"
            ],
            "image/png": "[encoded data removed]"
          },
          "metadata": {}
        },
        {
          "output_type": "execute_result",
          "data": {
            "text/plain": [
              "<matplotlib.collections.PathCollection at 0x7af0033fe230>"
            ]
          },
          "metadata": {},
          "execution_count": 36
        },
        {
          "output_type": "display_data",
          "data": {
            "text/plain": [
              "<Figure size 640x480 with 1 Axes>"
            ],
            "image/png": "[encoded data removed]"
          },
          "metadata": {}
        }
      ]
    },
    {
      "cell_type": "markdown",
      "source": [
        "##4.3.1 Задание\n",
        "\n",
        "---\n",
        "\n",
        "\n",
        "\n",
        "**Задача:**\n",
        "\n",
        "---\n",
        "\n",
        "\n",
        "\n",
        "*Задайте массив случайных значений из интервала(0; 1).\n",
        "Рассчитайте средние и медианные значения для массива, сравните\n",
        "результаты, какие выводы можно сделать о значениях?\n",
        "Постройте точечную диаграмму рассения полученного ряда.*\n",
        "\n",
        "---\n",
        "\n",
        "\n",
        "\n",
        "**Решение:**\n",
        "\n"
      ],
      "metadata": {
        "id": "2zLAffXz3hH9"
      }
    },
    {
      "cell_type": "code",
      "source": [
        "import random\n",
        "from matplotlib import pyplot as plt\n",
        "import statistics\n",
        "\n",
        "def median(sample):\n",
        "  n = len(sample)\n",
        "  index = n//2\n",
        "  if n%2:\n",
        "    return sorted(sample)[index]\n",
        "  return sum(sorted(sample)[index-1:index])\n",
        "x1 = []\n",
        "for i in range(10):\n",
        "  x1.append(random.randint(0,1))\n",
        "x = np.arange(0, 10, 1)\n",
        "y = x1\n",
        "plt.scatter(x, y, s=10, c=\"r\", marker=\"D\", linewidths=2, edgecolors=\"g\")\n",
        "print('Случаный массив: ', list(x1), ' Среднее значение: ', statistics.mean(x1), ' Медиана массива: ', median(x1))"
      ],
      "metadata": {
        "colab": {
          "base_uri": "https://localhost:8080/",
          "height": 448
        },
        "id": "0UFhrLuU5vb9",
        "outputId": "b8ed35c7-e3cd-4d73-fda7-4d5808fdb53b"
      },
      "execution_count": null,
      "outputs": [
        {
          "output_type": "stream",
          "name": "stdout",
          "text": [
            "Случаный массив:  [1, 1, 1, 1, 1, 0, 0, 1, 1, 0]  Среднее значение:  0.7  Медиана массива:  1\n"
          ]
        },
        {
          "output_type": "display_data",
          "data": {
            "text/plain": [
              "<Figure size 640x480 with 1 Axes>"
            ],
            "image/png": "[encoded data removed]"
          },
          "metadata": {}
        }
      ]
    },
    {
      "cell_type": "markdown",
      "source": [
        "##4.3.2 Задание\n",
        "\n",
        "---\n",
        "\n",
        "\n",
        "\n",
        "**Задача:**\n",
        "\n",
        "---\n",
        "\n",
        "\n",
        "\n",
        "*Дана функция*\n",
        "\n",
        "![изображение.png](data:image/png;base64,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)\n",
        "\n",
        "*Создать массив из 10 значений функции (𝑥, например, изменяется от 1 до 10). Выделить срез первой половины массива и построить графики для основного массива – линейный и для среза – точечный*\n",
        "\n",
        "---\n",
        "\n",
        "\n",
        "**Решение:**\n",
        "\n"
      ],
      "metadata": {
        "id": "c2tZS6Sz5uxd"
      }
    },
    {
      "cell_type": "code",
      "source": [
        "import math\n",
        "import seaborn as sns\n",
        "import matplotlib.pyplot as plt\n",
        "\n",
        "def function():\n",
        "    d=[]\n",
        "    for x in range(1,11):\n",
        "        d.append((math.sqrt(1 + math.e ** math.sqrt(x) + math.cos(x**2)))/abs(1- (math.sin(x))**3)) # Дана функция\n",
        "    return d\n",
        "fact = function()\n",
        "ds = fact[:5]\n",
        "print(ds)\n",
        "print(fact)\n",
        "plt.plot(fact)\n",
        "plt.show()\n",
        "sns.scatterplot(data=ds)\n",
        "plt.show()"
      ],
      "metadata": {
        "colab": {
          "base_uri": "https://localhost:8080/",
          "height": 899
        },
        "id": "CnnfRBF36WPV",
        "outputId": "bb31416c-3273-4cf5-9e45-81aa55aa69b0"
      },
      "execution_count": null,
      "outputs": [
        {
          "output_type": "stream",
          "name": "stdout",
          "text": [
            "[5.105770315851054, 8.509296468806129, 2.4028128051703663, 1.9017352346630467, 1.7901439656964655]\n",
            "[5.105770315851054, 8.509296468806129, 2.4028128051703663, 1.9017352346630467, 1.7901439656964655, 3.4537464997420138, 5.476642871163075, 135.47142952652877, 5.027612766544351, 4.348317956531935]\n"
          ]
        },
        {
          "output_type": "display_data",
          "data": {
            "text/plain": [
              "<Figure size 640x480 with 1 Axes>"
            ],
            "image/png": "[encoded data removed]"
          },
          "metadata": {}
        },
        {
          "output_type": "display_data",
          "data": {
            "text/plain": [
              "<Figure size 640x480 with 1 Axes>"
            ],
            "image/png": "[encoded data removed]"
          },
          "metadata": {}
        }
      ]
    },
    {
      "cell_type": "markdown",
      "source": [
        "##4.3.3 Задание\n",
        "\n",
        "---\n",
        "\n",
        "\n",
        "\n",
        "**Задача:**\n",
        "\n",
        "---\n",
        "\n",
        "\n",
        "\n",
        "*Дана функция*\n",
        "\n",
        "---\n",
        "\n",
        "\n",
        "\n",
        "|cos(𝑥𝑒^(cos(𝑥)+ln(𝑥+1)))|\n",
        "\n",
        "---\n",
        "\n",
        "\n",
        "\n",
        "*Построить график на\n",
        "интервале (0,10) с шагом 1 с заливкой площади и найти эту площадь\n",
        "под ним. Для вычисления площади воспользуйте функции trapz(),\n",
        "вычисляющей интеграл по правилу трапеции.\n",
        "Для ее корректной работы необходимо подключить следующие\n",
        "библиотеки:*\n",
        "\n",
        "from scipy.integrate import simps\n",
        "\n",
        "from numpy import trapz\n",
        "\n",
        "\n",
        "---\n",
        "\n",
        "\n",
        "\n",
        "**Решение:**\n"
      ],
      "metadata": {
        "id": "vqfZGiYp6prN"
      }
    },
    {
      "cell_type": "code",
      "source": [
        "from numpy import trapz\n",
        "import numpy as np\n",
        "\n",
        "x = np.arange(0.0, 10)\n",
        "y = np.abs(np.cos(x * np.exp(np.cos(x) + np.log(x+1))))\n",
        "\n",
        "plt.grid()\n",
        "plt.plot(x, y, c = 'r')\n",
        "plt.fill_between(x,y)\n",
        "plt.show()\n",
        "\n",
        "print(trapz(y))"
      ],
      "metadata": {
        "id": "5hSdvspn9QQx",
        "colab": {
          "base_uri": "https://localhost:8080/",
          "height": 448
        },
        "outputId": "74a97b54-b942-4433-b13e-6910587e8c18"
      },
      "execution_count": null,
      "outputs": [
        {
          "output_type": "display_data",
          "data": {
            "text/plain": [
              "<Figure size 640x480 with 1 Axes>"
            ],
            "image/png": "[encoded data removed]"
          },
          "metadata": {}
        },
        {
          "output_type": "stream",
          "name": "stdout",
          "text": [
            "6.260345875494747\n"
          ]
        }
      ]
    },
    {
      "cell_type": "markdown",
      "source": [
        "##4.3.4 Задание\n",
        "\n",
        "---\n",
        "\n",
        "**Задача:**\n",
        "\n",
        "---\n",
        "\n",
        "*Откройте статистические данные по стоимости акций Apple,\n",
        "Microsoft, Google за 12 месяцев 2021 г. Постройте 3 графика на\n",
        "плоскости и оцените их динамику. Подумайте, как можно улучшить\n",
        "читаемость результатов.\n",
        "Для начальных данных допустимо использовать следующий ресурс:*\n",
        "\n",
        "***https://finance.yahoo.com***\n",
        "\n",
        "---\n",
        "\n",
        "\n",
        "**Решение:**"
      ],
      "metadata": {
        "id": "lRQsk3F19Pa3"
      }
    },
    {
      "cell_type": "code",
      "source": [
        "import csv\n",
        "import numpy as np\n",
        "import pandas as pd\n",
        "import pylab\n",
        "import matplotlib.pyplot as plt\n",
        "\n",
        "appl = []\n",
        "micro = []\n",
        "google = []\n",
        "\n",
        "with open('appl.csv',encoding='utf-8') as csvfile:\n",
        "    reader = csv.DictReader(csvfile)\n",
        "    for row in reader:\n",
        "        appl.append(row['Price'])\n",
        "with open('micro.csv',encoding='utf-8') as csvfile2:\n",
        "    reader2 = csv.DictReader(csvfile2)\n",
        "    for row in reader2:\n",
        "        micro.append(row['Price'])\n",
        "with open('google.csv',encoding='utf-8') as csvfile3:\n",
        "    reader3 = csv.DictReader(csvfile3)\n",
        "    for row in reader3:\n",
        "        google.append(row['Price'])\n",
        "\n",
        "plt.plot(Apple, label='Apple')\n",
        "plt.plot(Microsoft, label='Microsoft')\n",
        "plt.plot(Google, label='Google')\n",
        "plt.legend() # вывод всех label\n",
        "plt.grid() # добавление сетки\n",
        "plt.xlabel('Месяцы 2021 года')\n",
        "plt.ylabel('Стоимость акций')\n",
        "plt.show()"
      ],
      "metadata": {
        "id": "gO3xUwPI98vg",
        "colab": {
          "base_uri": "https://localhost:8080/",
          "height": 449
        },
        "outputId": "0b17884e-97b8-4208-bfbf-3c0d6562fb32"
      },
      "execution_count": null,
      "outputs": [
        {
          "output_type": "display_data",
          "data": {
            "text/plain": [
              "<Figure size 640x480 with 1 Axes>"
            ],
            "image/png": "[encoded data removed]"
          },
          "metadata": {}
        }
      ]
    },
    {
      "cell_type": "markdown",
      "source": [
        "##4.3.5 Задание\n",
        "\n",
        "---\n",
        "\n",
        "**Задача:**\n",
        "\n",
        "---\n",
        "\n",
        "*Создайте простейший калькулятор, включающий основные действия\n",
        "для двух переменных*\n",
        "\n",
        "Операции: +, −, ∙, ÷\n",
        "\n",
        "*А также вычисление следующих функций: 𝑒𝑥+𝑦, sin(𝑥 + 𝑦) , cos(𝑥 + 𝑦) , 𝑥𝑦.*\n",
        "\n",
        "---\n",
        "\n",
        "\n",
        "\n",
        "**Решение:**\n"
      ],
      "metadata": {
        "id": "7uXIwg5v9-3d"
      }
    },
    {
      "cell_type": "code",
      "source": [
        "from math import *\n",
        "\n",
        "x = int(input('Введите x: '))\n",
        "y = int(input('Введите y:'))\n",
        "action = int(input('Введите действие (1 - +, 2 - -, 3 - *, 4 - /, 5 - e^(x=y), 6 - sin(x+y), 7 - cos(x+y), 8 - x**y):'))\n",
        "\n",
        "if action == 1:\n",
        "    print(\"Ответ: \", x+y)\n",
        "elif action == 2:\n",
        "    print(\"Ответ: \",x-y)\n",
        "elif action == 3:\n",
        "    print(\"Ответ: \",x*y)\n",
        "elif action == 4:\n",
        "    if (y == 0):\n",
        "        print('На ноль делить нельзя!')\n",
        "    else:\n",
        "        print(\"Ответ: \",x/y)\n",
        "elif action == 5:\n",
        "    print(\"Ответ: \",e**(x+y))\n",
        "elif action == 6:\n",
        "    print(\"Ответ: \",sin(x+y))\n",
        "elif action == 7:\n",
        "    print(\"Ответ: \",cos(x+y))\n",
        "elif action == 8:\n",
        "    print(\"Ответ: \",x**y)"
      ],
      "metadata": {
        "id": "4u8o_UsP-hHu",
        "colab": {
          "base_uri": "https://localhost:8080/"
        },
        "outputId": "0dd1d1e0-596f-4df2-dbc5-189d1a62c3ce"
      },
      "execution_count": null,
      "outputs": [
        {
          "output_type": "stream",
          "name": "stdout",
          "text": [
            "Введите x: 10\n",
            "Введите y:2\n",
            "Введите действие (1 - +, 2 - -, 3 - *, 4 - /, 5 - e^(x=y), 6 - sin(x+y), 7 - cos(x+y), 8 - x**y):2\n",
            "8\n"
          ]
        }
      ]
    }
  ]
}